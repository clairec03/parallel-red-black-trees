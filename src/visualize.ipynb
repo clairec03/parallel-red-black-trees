{
 "cells": [
  {
   "cell_type": "code",
   "execution_count": null,
   "metadata": {},
   "outputs": [],
   "source": [
    "import ipywidgets as widgets\n",
    "from ipywidgets import BoundedIntText, Button, HTML, Tab, HBox, VBox, Output\n",
    "from numpy.random import seed, randint\n",
    "from datetime import datetime"
   ]
  },
  {
   "cell_type": "code",
   "execution_count": null,
   "metadata": {},
   "outputs": [],
   "source": [
    "# Source: https://colab.research.google.com/drive/11oJI0TttOeZc2YtJwpKTpdeR2ScWOWjA\n",
    "\n",
    "def visualize(self):\n",
    "    ''' Visualize the tree using graphviz '''\n",
    "    tree = self.bst.root\n",
    "    dot = Digraph()\n",
    "    dot.engine = 'neato'\n",
    "    # Place root node\n",
    "    h = self.bst.height(tree) # height of the root node\n",
    "    tree.pos = [0, h]\n",
    "    dot.node(name=str(tree), label=str(tree.key), color = tree.col, shape=\"circle\",\n",
    "                fixedsize=\"True\", width=\"0.4\", pos=tree.spos())\n",
    "    # Recursively place the other nodes and edges\n",
    "    def add_nodes(tree, dot):\n",
    "        h = self.bst.height(tree) # height of the current node\n",
    "        if tree.left: # if left subtree: position node to left of parent\n",
    "            tree.left.pos[0] = tree.pos[0] - h/4 # x\n",
    "            tree.left.pos[1] = tree.pos[1] - 0.6 # y\n",
    "            dot.node(name=str(tree.left), label=str(tree.left.key), color = tree.left.col,\n",
    "                        shape=\"circle\", fixedsize=\"True\", width=\"0.4\", pos=tree.left.spos())\n",
    "            dot.edge(str(tree), str(tree.left))\n",
    "            dot = add_nodes(tree.left, dot=dot)\n",
    "        if tree.right: # if right subtree: position node to right of parent\n",
    "            tree.right.pos[0] = tree.pos[0] + h/4 # x\n",
    "            tree.right.pos[1] = tree.pos[1] - 0.6 # y\n",
    "            dot.node(name=str(tree.right), label=str(tree.right.key), color = tree.right.col,\n",
    "                        shape=\"circle\", fixedsize=\"True\", width=\"0.4\", pos=tree.right.spos())\n",
    "            dot.edge(str(tree), str(tree.right))\n",
    "            dot = add_nodes(tree.right, dot=dot)\n",
    "        return dot\n",
    "    display(add_nodes(tree, dot))"
   ]
  },
  {
   "cell_type": "code",
   "execution_count": null,
   "metadata": {},
   "outputs": [],
   "source": [
    "# Source: https://colab.research.google.com/drive/11oJI0TttOeZc2YtJwpKTpdeR2ScWOWjA\n",
    "\n",
    "def visualize(self):\n",
    "    ''' Visualize the tree using graphviz '''\n",
    "    tree = self.bst.root\n",
    "    dot = Digraph()\n",
    "    dot.engine = 'neato'\n",
    "    # Place root node\n",
    "    h = self.bst.height(tree) # height of the root node\n",
    "    tree.pos = [0, h]\n",
    "    dot.node(name=str(tree), label=str(tree.key), color = tree.col, shape=\"circle\",\n",
    "                fixedsize=\"True\", width=\"0.4\", pos=tree.spos())\n",
    "    # Recursively place the other nodes and edges\n",
    "    def add_nodes(tree, dot):\n",
    "        h = self.bst.height(tree) # height of the current node\n",
    "        if tree.left: # if left subtree: position node to left of parent\n",
    "            tree.left.pos[0] = tree.pos[0] - h/4 # x\n",
    "            tree.left.pos[1] = tree.pos[1] - 0.6 # y\n",
    "            dot.node(name=str(tree.left), label=str(tree.left.key), color = tree.left.col,\n",
    "                        shape=\"circle\", fixedsize=\"True\", width=\"0.4\", pos=tree.left.spos())\n",
    "            dot.edge(str(tree), str(tree.left))\n",
    "            dot = add_nodes(tree.left, dot=dot)\n",
    "        if tree.right: # if right subtree: position node to right of parent\n",
    "            tree.right.pos[0] = tree.pos[0] + h/4 # x\n",
    "            tree.right.pos[1] = tree.pos[1] - 0.6 # y\n",
    "            dot.node(name=str(tree.right), label=str(tree.right.key), color = tree.right.col,\n",
    "                        shape=\"circle\", fixedsize=\"True\", width=\"0.4\", pos=tree.right.spos())\n",
    "            dot.edge(str(tree), str(tree.right))\n",
    "            dot = add_nodes(tree.right, dot=dot)\n",
    "        return dot\n",
    "    display(add_nodes(tree, dot))"
   ]
  }
 ],
 "metadata": {
  "language_info": {
   "name": "python"
  }
 },
 "nbformat": 4,
 "nbformat_minor": 2
}
